{
 "cells": [
  {
   "cell_type": "code",
   "execution_count": 1,
   "metadata": {},
   "outputs": [],
   "source": [
    "import numpy as np\n",
    "x_test = np.load('data/X_test.npz')['arr_0']\n",
    "x_train = np.load('data/X_train.npz')['arr_0']\n",
    "y_train = np.load('data/Y_train.npz')['arr_0']"
   ]
  },
  {
   "cell_type": "code",
   "execution_count": 2,
   "metadata": {},
   "outputs": [
    {
     "data": {
      "text/plain": [
       "array([[1.30754295e-01, 1.22285765e+02, 8.03669961e-01],\n",
       "       [9.92038437e-01, 1.77303640e+02, 5.98635874e-01],\n",
       "       [8.93321366e-01, 2.47923577e+02, 6.03514602e-01],\n",
       "       [8.75883738e-01, 2.00437572e+02, 7.77381163e-01],\n",
       "       [7.72367570e-01, 1.35865729e+02, 5.82696123e-01],\n",
       "       [9.91782471e-01, 1.67985236e+02, 6.49121986e-01],\n",
       "       [6.24681677e-01, 2.84464179e+01, 9.57199157e-01],\n",
       "       [5.67137188e-01, 4.65857881e+01, 6.63695939e-01],\n",
       "       [7.55718050e-01, 4.59157088e+01, 6.12601455e-01],\n",
       "       [3.78410973e-01, 3.58039504e+01, 8.26610373e-01]])"
      ]
     },
     "execution_count": 2,
     "metadata": {},
     "output_type": "execute_result"
    }
   ],
   "source": [
    "y_train[:10]"
   ]
  },
  {
   "cell_type": "code",
   "execution_count": 3,
   "metadata": {},
   "outputs": [
    {
     "name": "stdout",
     "output_type": "stream",
     "text": [
      "x_test: (2500, 10000)\n",
      "x_train: (47500, 10000)\n",
      "y_train: (47500, 3)\n"
     ]
    }
   ],
   "source": [
    "print('x_test:',x_test.shape)\n",
    "print('x_train:',x_train.shape)\n",
    "print('y_train:',y_train.shape)"
   ]
  },
  {
   "cell_type": "code",
   "execution_count": 4,
   "metadata": {},
   "outputs": [
    {
     "data": {
      "text/plain": [
       "(47500,)"
      ]
     },
     "execution_count": 4,
     "metadata": {},
     "output_type": "execute_result"
    }
   ],
   "source": [
    "y_train[:,0].shape"
   ]
  },
  {
   "cell_type": "markdown",
   "metadata": {},
   "source": [
    "# Linear Regression"
   ]
  },
  {
   "cell_type": "code",
   "execution_count": 4,
   "metadata": {},
   "outputs": [
    {
     "data": {
      "text/plain": [
       "LinearRegression(copy_X=True, fit_intercept=True, n_jobs=None,\n",
       "         normalize=False)"
      ]
     },
     "execution_count": 4,
     "metadata": {},
     "output_type": "execute_result"
    }
   ],
   "source": [
    "from sklearn import linear_model\n",
    "linear_reg = linear_model.LinearRegression()\n",
    "linear_reg.fit(x_train,y_train)"
   ]
  },
  {
   "cell_type": "code",
   "execution_count": 5,
   "metadata": {},
   "outputs": [],
   "source": [
    "import pickle\n",
    "with open('model/linear_reg.pkl','wb') as model:\n",
    "    pickle.dump(linear_reg,model)"
   ]
  },
  {
   "cell_type": "code",
   "execution_count": 6,
   "metadata": {},
   "outputs": [],
   "source": [
    "y_pred_linear_reg = linear_reg.predict(x_test)"
   ]
  },
  {
   "cell_type": "code",
   "execution_count": 7,
   "metadata": {},
   "outputs": [
    {
     "data": {
      "text/plain": [
       "(2500, 3)"
      ]
     },
     "execution_count": 7,
     "metadata": {},
     "output_type": "execute_result"
    }
   ],
   "source": [
    "y_pred_linear_reg.shape"
   ]
  },
  {
   "cell_type": "code",
   "execution_count": 8,
   "metadata": {},
   "outputs": [],
   "source": [
    "np.savetxt('pred_linear_reg.csv',y_pred_linear_reg,delimiter=',')"
   ]
  },
  {
   "cell_type": "markdown",
   "metadata": {},
   "source": [
    "# Ridge Regression"
   ]
  },
  {
   "cell_type": "code",
   "execution_count": 9,
   "metadata": {},
   "outputs": [
    {
     "data": {
      "text/plain": [
       "Ridge(alpha=0.5, copy_X=True, fit_intercept=True, max_iter=None,\n",
       "   normalize=False, random_state=None, solver='auto', tol=0.001)"
      ]
     },
     "execution_count": 9,
     "metadata": {},
     "output_type": "execute_result"
    }
   ],
   "source": [
    "from sklearn import linear_model\n",
    "linear_ridge_reg = linear_model.Ridge(alpha=.5)\n",
    "linear_ridge_reg.fit(x_train,y_train)"
   ]
  },
  {
   "cell_type": "code",
   "execution_count": 10,
   "metadata": {},
   "outputs": [],
   "source": [
    "y_pred_ridge_reg = linear_ridge_reg.predict(x_test)"
   ]
  },
  {
   "cell_type": "code",
   "execution_count": 11,
   "metadata": {},
   "outputs": [],
   "source": [
    "np.savetxt('pred_ridge_reg.csv',y_pred_ridge_reg,delimiter=',')"
   ]
  },
  {
   "cell_type": "markdown",
   "metadata": {},
   "source": [
    "# Lasso"
   ]
  },
  {
   "cell_type": "code",
   "execution_count": 13,
   "metadata": {},
   "outputs": [
    {
     "data": {
      "text/plain": [
       "Lasso(alpha=0.1, copy_X=True, fit_intercept=True, max_iter=10000,\n",
       "   normalize=False, positive=False, precompute=False, random_state=None,\n",
       "   selection='cyclic', tol=0.0001, warm_start=False)"
      ]
     },
     "execution_count": 13,
     "metadata": {},
     "output_type": "execute_result"
    }
   ],
   "source": [
    "from sklearn import linear_model\n",
    "#x_train /= x_train.std(axis=0)\n",
    "Lasso_reg = linear_model.Lasso(alpha=0.1,max_iter=10000,tol=0.0001)\n",
    "Lasso_reg.fit(x_train,y_train)"
   ]
  },
  {
   "cell_type": "code",
   "execution_count": 14,
   "metadata": {},
   "outputs": [],
   "source": [
    "y_pred_Lasso_reg = Lasso_reg.predict(x_test)"
   ]
  },
  {
   "cell_type": "code",
   "execution_count": 15,
   "metadata": {},
   "outputs": [],
   "source": [
    "np.savetxt('pred_Lasso_reg.csv',y_pred_Lasso_reg,delimiter=',')"
   ]
  },
  {
   "cell_type": "markdown",
   "metadata": {},
   "source": [
    "# ElasticNet"
   ]
  },
  {
   "cell_type": "code",
   "execution_count": 18,
   "metadata": {},
   "outputs": [
    {
     "data": {
      "text/plain": [
       "ElasticNet(alpha=1.0, copy_X=True, fit_intercept=True, l1_ratio=0.5,\n",
       "      max_iter=1000, normalize=False, positive=False, precompute=False,\n",
       "      random_state=0, selection='cyclic', tol=0.0001, warm_start=False)"
      ]
     },
     "execution_count": 18,
     "metadata": {},
     "output_type": "execute_result"
    }
   ],
   "source": [
    "from sklearn.linear_model import ElasticNet\n",
    "Elastic_reg = ElasticNet(random_state=0)\n",
    "Elastic_reg.fit(x_train,y_train)"
   ]
  },
  {
   "cell_type": "code",
   "execution_count": 19,
   "metadata": {},
   "outputs": [],
   "source": [
    "y_pred_Elastic_reg = Elastic_reg.predict(x_test)"
   ]
  },
  {
   "cell_type": "code",
   "execution_count": 20,
   "metadata": {},
   "outputs": [],
   "source": [
    "np.savetxt('pred_Elastic_reg.csv',y_pred_Elastic_reg,delimiter=',')"
   ]
  },
  {
   "cell_type": "markdown",
   "metadata": {},
   "source": [
    "# Least Angle Regression"
   ]
  },
  {
   "cell_type": "code",
   "execution_count": 21,
   "metadata": {},
   "outputs": [
    {
     "data": {
      "text/plain": [
       "Lars(copy_X=True, eps=2.220446049250313e-16, fit_intercept=True,\n",
       "   fit_path=True, n_nonzero_coefs=500, normalize=True, positive=False,\n",
       "   precompute='auto', verbose=False)"
      ]
     },
     "execution_count": 21,
     "metadata": {},
     "output_type": "execute_result"
    }
   ],
   "source": [
    "from sklearn import linear_model\n",
    "LAR_reg = linear_model.Lars()\n",
    "LAR_reg.fit(x_train,y_train)"
   ]
  },
  {
   "cell_type": "code",
   "execution_count": 22,
   "metadata": {},
   "outputs": [],
   "source": [
    "y_pred_LAR_reg = LAR_reg.predict(x_test)"
   ]
  },
  {
   "cell_type": "code",
   "execution_count": 23,
   "metadata": {},
   "outputs": [],
   "source": [
    "np.savetxt('pred_LAR_reg.csv',y_pred_LAR_reg,delimiter=',')"
   ]
  },
  {
   "cell_type": "markdown",
   "metadata": {},
   "source": [
    "# XGBoost"
   ]
  },
  {
   "cell_type": "code",
   "execution_count": null,
   "metadata": {},
   "outputs": [],
   "source": [
    "import xgboost as xgb\n",
    "from sklearn.multioutput import MultiOutputRegressor\n",
    "# xgdmat = xgb.DMatrix(x_train,y_train)\n",
    "# params = {'objective':'mae'}\n",
    "# final_gb = xgb.train(params,xgdmat)\n",
    "multioutput_regressor = MultiOutputRegressor(xgb.XGBRegressor(objective='reg:linear')).fit(x_train,y_train)\n",
    "y_pred_xgboost = multioutput_regressor.predict(x_test)"
   ]
  },
  {
   "cell_type": "code",
   "execution_count": 4,
   "metadata": {},
   "outputs": [],
   "source": [
    "np.savetxt('pred_xgboost_reg.csv',y_pred_xgboost,delimiter=',')"
   ]
  },
  {
   "cell_type": "markdown",
   "metadata": {},
   "source": [
    "# LightGBM"
   ]
  },
  {
   "cell_type": "code",
   "execution_count": 10,
   "metadata": {},
   "outputs": [
    {
     "data": {
      "text/plain": [
       "['bst.pkl']"
      ]
     },
     "execution_count": 10,
     "metadata": {},
     "output_type": "execute_result"
    }
   ],
   "source": [
    "import lightgbm as lgb\n",
    "from sklearn.externals import joblib\n",
    "from sklearn.multioutput import MultiOutputRegressor\n",
    "bst = MultiOutputRegressor(lgb.LGBMRegressor(objective='mape')).fit(x_train[:100],y_train[:100])\n",
    "y_pred_lightgbm = bst.predict(x_test[:10])\n",
    "np.savetxt('pred_lightgbm_reg.csv',y_pred_lightgbm,delimiter=',')\n",
    "joblib.dump(bst, 'bst.pkl')"
   ]
  },
  {
   "cell_type": "code",
   "execution_count": 11,
   "metadata": {},
   "outputs": [],
   "source": [
    "load_model = joblib.load('bst.pkl')"
   ]
  },
  {
   "cell_type": "code",
   "execution_count": 12,
   "metadata": {},
   "outputs": [
    {
     "name": "stdout",
     "output_type": "stream",
     "text": [
      "MultiOutputRegressor(estimator=LGBMRegressor(boosting_type='gbdt', class_weight=None, colsample_bytree=1.0,\n",
      "       importance_type='split', learning_rate=0.1, max_depth=-1,\n",
      "       min_child_samples=20, min_child_weight=0.001, min_split_gain=0.0,\n",
      "       n_estimators=100, n_jobs=-1, num_leaves=31, objective='mape',\n",
      "       random_state=None, reg_alpha=0.0, reg_lambda=0.0, silent=True,\n",
      "       subsample=1.0, subsample_for_bin=200000, subsample_freq=0),\n",
      "           n_jobs=None)\n"
     ]
    }
   ],
   "source": [
    "print(load_model)"
   ]
  },
  {
   "cell_type": "code",
   "execution_count": 8,
   "metadata": {},
   "outputs": [
    {
     "data": {
      "text/plain": [
       "array([[3.46838903e-01, 1.54689915e+02, 5.65919994e-01],\n",
       "       [5.55811642e-01, 1.29335821e+02, 8.90814082e-01],\n",
       "       [6.23188895e-01, 1.18893843e+02, 8.06928084e-01],\n",
       "       [1.50032210e-01, 1.21101851e+02, 8.09364557e-01],\n",
       "       [3.72077710e-01, 1.13312602e+02, 7.83787643e-01],\n",
       "       [7.29344081e-01, 1.32551930e+02, 8.32653645e-01],\n",
       "       [6.29160844e-01, 1.09369955e+02, 8.93586235e-01],\n",
       "       [2.84316161e-01, 1.69228030e+02, 5.73141349e-01],\n",
       "       [1.85005460e-01, 5.64537529e+01, 8.85357768e-01],\n",
       "       [7.36757675e-01, 1.43074447e+02, 7.12977376e-01]])"
      ]
     },
     "execution_count": 8,
     "metadata": {},
     "output_type": "execute_result"
    }
   ],
   "source": [
    "y_pred_lightgbm"
   ]
  },
  {
   "cell_type": "markdown",
   "metadata": {},
   "source": [
    "# Adaboost"
   ]
  },
  {
   "cell_type": "code",
   "execution_count": 3,
   "metadata": {},
   "outputs": [],
   "source": [
    "from sklearn.tree import DecisionTreeRegressor\n",
    "from sklearn.ensemble import AdaBoostRegressor\n",
    "from sklearn.multioutput import MultiOutputRegressor\n",
    "from sklearn.externals import joblib\n",
    "ada_reg = MultiOutputRegressor(AdaBoostRegressor(base_estimator=DecisionTreeRegressor(max_depth=3), loss='square',n_estimators=100)).fit(x_train[:100],y_train[:100])\n",
    "y_pred_adaboost_dt = ada_reg.predict(x_test[:10])"
   ]
  },
  {
   "cell_type": "code",
   "execution_count": 4,
   "metadata": {},
   "outputs": [
    {
     "data": {
      "text/plain": [
       "['ada.pkl']"
      ]
     },
     "execution_count": 4,
     "metadata": {},
     "output_type": "execute_result"
    }
   ],
   "source": [
    "np.savetxt('pred_adaboost_dt_reg.csv',y_pred_adaboost_dt,delimiter=',')\n",
    "joblib.dump(ada_reg, 'ada.pkl')"
   ]
  },
  {
   "cell_type": "code",
   "execution_count": 5,
   "metadata": {},
   "outputs": [
    {
     "data": {
      "text/plain": [
       "array([[4.83694640e-01, 1.76544702e+02, 5.63101293e-01],\n",
       "       [5.50491343e-01, 1.29154423e+02, 9.11015047e-01],\n",
       "       [6.00817280e-01, 1.50489266e+02, 8.19984183e-01],\n",
       "       [1.70893817e-01, 1.14992005e+02, 8.01018652e-01],\n",
       "       [1.93893473e-01, 1.54995566e+02, 7.85020066e-01],\n",
       "       [5.24372972e-01, 1.40469545e+02, 8.20600205e-01],\n",
       "       [5.66955771e-01, 1.50489266e+02, 8.99425599e-01],\n",
       "       [1.82261413e-01, 1.58239589e+02, 5.34278887e-01],\n",
       "       [1.82261413e-01, 1.05151144e+02, 9.02835543e-01],\n",
       "       [6.87122666e-01, 1.55996182e+02, 7.07264976e-01]])"
      ]
     },
     "execution_count": 5,
     "metadata": {},
     "output_type": "execute_result"
    }
   ],
   "source": [
    "y_pred_adaboost"
   ]
  },
  {
   "cell_type": "code",
   "execution_count": null,
   "metadata": {},
   "outputs": [],
   "source": []
  }
 ],
 "metadata": {
  "kernelspec": {
   "display_name": "Python 3",
   "language": "python",
   "name": "python3"
  },
  "language_info": {
   "codemirror_mode": {
    "name": "ipython",
    "version": 3
   },
   "file_extension": ".py",
   "mimetype": "text/x-python",
   "name": "python",
   "nbconvert_exporter": "python",
   "pygments_lexer": "ipython3",
   "version": "3.7.1"
  }
 },
 "nbformat": 4,
 "nbformat_minor": 2
}
