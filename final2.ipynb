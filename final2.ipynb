{
 "cells": [
  {
   "cell_type": "code",
   "execution_count": 3,
   "metadata": {
    "colab": {
     "base_uri": "https://localhost:8080/",
     "height": 35
    },
    "colab_type": "code",
    "id": "Ryl3uhJjnKEi",
    "outputId": "74c4f8cf-45b3-4e08-91f0-22241bba2f23"
   },
   "outputs": [
    {
     "name": "stdout",
     "output_type": "stream",
     "text": [
      "Found GPU at: /device:GPU:0\n"
     ]
    }
   ],
   "source": [
    "import tensorflow as tf\n",
    "device_name = tf.test.gpu_device_name()\n",
    "if device_name != '/device:GPU:0':\n",
    "  raise SystemError('GPU device not found')\n",
    "print('Found GPU at: {}'.format(device_name))"
   ]
  },
  {
   "cell_type": "code",
   "execution_count": 2,
   "metadata": {
    "colab": {
     "base_uri": "https://localhost:8080/",
     "height": 215
    },
    "colab_type": "code",
    "id": "GXPvWFybjtMy",
    "outputId": "c1163350-4db8-4378-fb9c-7e62c0550f22"
   },
   "outputs": [
    {
     "name": "stdout",
     "output_type": "stream",
     "text": [
      "--2019-06-05 13:28:59--  https://learner.csie.ntu.edu.tw/~judge/ml19spring/ml19spring.zip\n",
      "Resolving learner.csie.ntu.edu.tw (learner.csie.ntu.edu.tw)... 140.112.90.193\n",
      "Connecting to learner.csie.ntu.edu.tw (learner.csie.ntu.edu.tw)|140.112.90.193|:443... connected.\n",
      "HTTP request sent, awaiting response... 200 OK\n",
      "Length: 3780741206 (3.5G) [application/zip]\n",
      "Saving to: ‘ml19spring.zip’\n",
      "\n",
      "ml19spring.zip      100%[===================>]   3.52G  7.94MB/s    in 6m 1s   \n",
      "\n",
      "2019-06-05 13:35:03 (9.99 MB/s) - ‘ml19spring.zip’ saved [3780741206/3780741206]\n",
      "\n"
     ]
    }
   ],
   "source": [
    "!wget https://learner.csie.ntu.edu.tw/~judge/ml19spring/ml19spring.zip"
   ]
  },
  {
   "cell_type": "code",
   "execution_count": 3,
   "metadata": {
    "colab": {
     "base_uri": "https://localhost:8080/",
     "height": 35
    },
    "colab_type": "code",
    "id": "1-lDHiHWkxj6",
    "outputId": "512c348a-cf47-44a4-8c99-45c308683991"
   },
   "outputs": [
    {
     "name": "stdout",
     "output_type": "stream",
     "text": [
      "ml19spring.zip\tsample_data  X_test.npz  X_train.npz  Y_train.npz\n"
     ]
    }
   ],
   "source": [
    "!unzip -q ml19spring.zip\n",
    "!ls"
   ]
  },
  {
   "cell_type": "code",
   "execution_count": 0,
   "metadata": {
    "colab": {},
    "colab_type": "code",
    "id": "lvJ47h1HjpVo"
   },
   "outputs": [],
   "source": [
    "import numpy as np\n",
    "x_test = np.load('X_test.npz')['arr_0']\n",
    "x_train = np.load('X_train.npz')['arr_0']\n",
    "y_train = np.load('Y_train.npz')['arr_0']"
   ]
  },
  {
   "cell_type": "code",
   "execution_count": 0,
   "metadata": {
    "colab": {
     "base_uri": "https://localhost:8080/",
     "height": 179
    },
    "colab_type": "code",
    "id": "uitZzyq2uyfd",
    "outputId": "0478d4d1-af6c-4db9-a3c0-8b0c0ea68f82"
   },
   "outputs": [
    {
     "name": "stdout",
     "output_type": "stream",
     "text": [
      "10\n",
      "9\n",
      "8\n",
      "7\n",
      "6\n",
      "5\n",
      "4\n",
      "3\n",
      "2\n"
     ]
    }
   ],
   "source": [
    "for i in range(10,1,-1):\n",
    "  print(i)"
   ]
  },
  {
   "cell_type": "code",
   "execution_count": 0,
   "metadata": {
    "colab": {},
    "colab_type": "code",
    "id": "kwJ5oN5gud3n"
   },
   "outputs": [],
   "source": [
    "for i in range(4999,0,-1):\n",
    "  x_train[:,i] = x_train[:,i]-x_train[:,i-1]\n",
    "  x_test[:,i] = x_test[:,i]-x_test[:,i-1]"
   ]
  },
  {
   "cell_type": "code",
   "execution_count": 0,
   "metadata": {
    "colab": {},
    "colab_type": "code",
    "id": "vpgFby6hvrLR"
   },
   "outputs": [],
   "source": [
    "for i in range(50):\n",
    "  for j in range(99,0,-1):\n",
    "    x_train[:,5000+50*i+j] = x_train[:,5000+50*i+j] - x_train[:,5000+50*i+j-1]\n",
    "    x_test[:,5000+50*i+j] = x_test[:,5000+50*i+j] - x_test[:,5000+50*i+j-1]"
   ]
  },
  {
   "cell_type": "code",
   "execution_count": 0,
   "metadata": {
    "colab": {},
    "colab_type": "code",
    "id": "4k3FUD38ybCr"
   },
   "outputs": [],
   "source": [
    "y_train[:,0] = y_train[:,0]*300;\n",
    "y_train[:,2] = y_train[:,2]*200;"
   ]
  },
  {
   "cell_type": "code",
   "execution_count": 8,
   "metadata": {
    "colab": {
     "base_uri": "https://localhost:8080/",
     "height": 287
    },
    "colab_type": "code",
    "id": "5wg_OyHGpbFK",
    "outputId": "4a71cd1a-b6ff-4ced-bb9b-a17ccf09eb4c"
   },
   "outputs": [
    {
     "name": "stdout",
     "output_type": "stream",
     "text": [
      "(10000,)\n"
     ]
    },
    {
     "data": {
      "image/png": "[encoded data removed]",
      "text/plain": [
       "<Figure size 432x288 with 1 Axes>"
      ]
     },
     "metadata": {
      "tags": []
     },
     "output_type": "display_data"
    }
   ],
   "source": [
    "import matplotlib.pyplot as plt\n",
    "d = range(10000)\n",
    "x_mean = x_train.mean(axis=0)\n",
    "print(x_mean.shape)\n",
    "plt.bar(d,x_mean)\n",
    "plt.show()"
   ]
  },
  {
   "cell_type": "code",
   "execution_count": 0,
   "metadata": {
    "colab": {
     "base_uri": "https://localhost:8080/",
     "height": 197
    },
    "colab_type": "code",
    "id": "amrpLDSNy3ms",
    "outputId": "c76c86a2-77c1-40aa-df57-fd99705f5982"
   },
   "outputs": [
    {
     "data": {
      "text/plain": [
       "array([[ 39.22628839, 122.28576511, 160.73399218],\n",
       "       [297.61153096, 177.30364034, 119.72717485],\n",
       "       [267.99640982, 247.92357697, 120.70292039],\n",
       "       [262.76512152, 200.43757209, 155.4762326 ],\n",
       "       [231.71027091, 135.86572889, 116.53922469],\n",
       "       [297.53474121, 167.98523565, 129.82439719],\n",
       "       [187.4045031 ,  28.44641793, 191.43983144],\n",
       "       [170.14115634,  46.58578811, 132.73918789],\n",
       "       [226.71541499,  45.91570878, 122.52029094],\n",
       "       [113.52329183,  35.80395037, 165.3220747 ]])"
      ]
     },
     "execution_count": 29,
     "metadata": {
      "tags": []
     },
     "output_type": "execute_result"
    }
   ],
   "source": [
    "y_train[:10]"
   ]
  },
  {
   "cell_type": "code",
   "execution_count": 0,
   "metadata": {
    "colab": {},
    "colab_type": "code",
    "id": "2jxmEBvJjpVs",
    "outputId": "2e1b2e65-b321-48a8-f663-1dc3edcc0221"
   },
   "outputs": [
    {
     "data": {
      "text/plain": [
       "array([[1.30754295e-01, 1.22285765e+02, 8.03669961e-01],\n",
       "       [9.92038437e-01, 1.77303640e+02, 5.98635874e-01],\n",
       "       [8.93321366e-01, 2.47923577e+02, 6.03514602e-01],\n",
       "       [8.75883738e-01, 2.00437572e+02, 7.77381163e-01],\n",
       "       [7.72367570e-01, 1.35865729e+02, 5.82696123e-01],\n",
       "       [9.91782471e-01, 1.67985236e+02, 6.49121986e-01],\n",
       "       [6.24681677e-01, 2.84464179e+01, 9.57199157e-01],\n",
       "       [5.67137188e-01, 4.65857881e+01, 6.63695939e-01],\n",
       "       [7.55718050e-01, 4.59157088e+01, 6.12601455e-01],\n",
       "       [3.78410973e-01, 3.58039504e+01, 8.26610373e-01]])"
      ]
     },
     "execution_count": 2,
     "metadata": {
      "tags": []
     },
     "output_type": "execute_result"
    }
   ],
   "source": [
    "y_train[:10]"
   ]
  },
  {
   "cell_type": "code",
   "execution_count": 0,
   "metadata": {
    "colab": {},
    "colab_type": "code",
    "id": "XFmzzr9KjpVx",
    "outputId": "31ac69ce-cc4f-48f6-80af-5369ee08939f"
   },
   "outputs": [
    {
     "name": "stdout",
     "output_type": "stream",
     "text": [
      "x_test: (2500, 10000)\n",
      "x_train: (47500, 10000)\n",
      "y_train: (47500, 3)\n"
     ]
    }
   ],
   "source": [
    "print('x_test:',x_test.shape)\n",
    "print('x_train:',x_train.shape)\n",
    "print('y_train:',y_train.shape)"
   ]
  },
  {
   "cell_type": "code",
   "execution_count": 0,
   "metadata": {
    "colab": {},
    "colab_type": "code",
    "id": "Mix0tVMhjpVz",
    "outputId": "8de2fc8d-2af0-4e5d-d1b3-9c92c0c261b9"
   },
   "outputs": [
    {
     "data": {
      "text/plain": [
       "(47500,)"
      ]
     },
     "execution_count": 4,
     "metadata": {
      "tags": []
     },
     "output_type": "execute_result"
    }
   ],
   "source": [
    "y_train[:,0].shape"
   ]
  },
  {
   "cell_type": "markdown",
   "metadata": {
    "colab_type": "text",
    "id": "Uv_4Zl7_jpV2"
   },
   "source": [
    "# Linear Regression"
   ]
  },
  {
   "cell_type": "code",
   "execution_count": 0,
   "metadata": {
    "colab": {},
    "colab_type": "code",
    "id": "nOqCybJyjpV3",
    "outputId": "4dd0a559-ae74-4b3a-a1f7-793234e4060a"
   },
   "outputs": [
    {
     "data": {
      "text/plain": [
       "LinearRegression(copy_X=True, fit_intercept=True, n_jobs=None,\n",
       "         normalize=False)"
      ]
     },
     "execution_count": 4,
     "metadata": {
      "tags": []
     },
     "output_type": "execute_result"
    }
   ],
   "source": [
    "from sklearn import linear_model\n",
    "linear_reg = linear_model.LinearRegression()\n",
    "linear_reg.fit(x_train,y_train)"
   ]
  },
  {
   "cell_type": "code",
   "execution_count": 0,
   "metadata": {
    "colab": {},
    "colab_type": "code",
    "id": "2fbC_AcXjpV5"
   },
   "outputs": [],
   "source": [
    "import pickle\n",
    "with open('model/linear_reg.pkl','wb') as model:\n",
    "    pickle.dump(linear_reg,model)"
   ]
  },
  {
   "cell_type": "code",
   "execution_count": 0,
   "metadata": {
    "colab": {},
    "colab_type": "code",
    "id": "yseKqXA_jpV9"
   },
   "outputs": [],
   "source": [
    "y_pred_linear_reg = linear_reg.predict(x_test)"
   ]
  },
  {
   "cell_type": "code",
   "execution_count": 0,
   "metadata": {
    "colab": {},
    "colab_type": "code",
    "id": "uEpZHcYijpV-",
    "outputId": "3083220b-c7aa-408a-8290-9da00d0350f5"
   },
   "outputs": [
    {
     "data": {
      "text/plain": [
       "(2500, 3)"
      ]
     },
     "execution_count": 7,
     "metadata": {
      "tags": []
     },
     "output_type": "execute_result"
    }
   ],
   "source": [
    "y_pred_linear_reg.shape"
   ]
  },
  {
   "cell_type": "code",
   "execution_count": 0,
   "metadata": {
    "colab": {},
    "colab_type": "code",
    "id": "M6_WM4rgjpWC"
   },
   "outputs": [],
   "source": [
    "np.savetxt('pred_linear_reg.csv',y_pred_linear_reg,delimiter=',')"
   ]
  },
  {
   "cell_type": "markdown",
   "metadata": {
    "colab_type": "text",
    "id": "fRwj4ot6jpWE"
   },
   "source": [
    "# Ridge Regression"
   ]
  },
  {
   "cell_type": "code",
   "execution_count": 0,
   "metadata": {
    "colab": {},
    "colab_type": "code",
    "id": "odlm43ttjpWE",
    "outputId": "602debe3-ae30-4943-cc65-1c281809d460"
   },
   "outputs": [
    {
     "data": {
      "text/plain": [
       "Ridge(alpha=0.5, copy_X=True, fit_intercept=True, max_iter=None,\n",
       "   normalize=False, random_state=None, solver='auto', tol=0.001)"
      ]
     },
     "execution_count": 9,
     "metadata": {
      "tags": []
     },
     "output_type": "execute_result"
    }
   ],
   "source": [
    "from sklearn import linear_model\n",
    "linear_ridge_reg = linear_model.Ridge(alpha=.5)\n",
    "linear_ridge_reg.fit(x_train,y_train)"
   ]
  },
  {
   "cell_type": "code",
   "execution_count": 0,
   "metadata": {
    "colab": {},
    "colab_type": "code",
    "id": "5SwvmLDZjpWH"
   },
   "outputs": [],
   "source": [
    "y_pred_ridge_reg = linear_ridge_reg.predict(x_test)"
   ]
  },
  {
   "cell_type": "code",
   "execution_count": 0,
   "metadata": {
    "colab": {},
    "colab_type": "code",
    "id": "OFDZGFHWjpWJ"
   },
   "outputs": [],
   "source": [
    "np.savetxt('pred_ridge_reg.csv',y_pred_ridge_reg,delimiter=',')"
   ]
  },
  {
   "cell_type": "markdown",
   "metadata": {
    "colab_type": "text",
    "id": "DMEguurnjpWK"
   },
   "source": [
    "# Lasso"
   ]
  },
  {
   "cell_type": "code",
   "execution_count": 0,
   "metadata": {
    "colab": {},
    "colab_type": "code",
    "id": "aiJ5dg0QjpWL",
    "outputId": "f12e74e0-ab88-43b0-b2cf-8b26d7564499"
   },
   "outputs": [
    {
     "data": {
      "text/plain": [
       "Lasso(alpha=0.1, copy_X=True, fit_intercept=True, max_iter=10000,\n",
       "   normalize=False, positive=False, precompute=False, random_state=None,\n",
       "   selection='cyclic', tol=0.0001, warm_start=False)"
      ]
     },
     "execution_count": 13,
     "metadata": {
      "tags": []
     },
     "output_type": "execute_result"
    }
   ],
   "source": [
    "from sklearn import linear_model\n",
    "#x_train /= x_train.std(axis=0)\n",
    "Lasso_reg = linear_model.Lasso(alpha=0.1,max_iter=10000,tol=0.0001)\n",
    "Lasso_reg.fit(x_train,y_train)"
   ]
  },
  {
   "cell_type": "code",
   "execution_count": 0,
   "metadata": {
    "colab": {},
    "colab_type": "code",
    "id": "Yx4DxcsPjpWN"
   },
   "outputs": [],
   "source": [
    "y_pred_Lasso_reg = Lasso_reg.predict(x_test)"
   ]
  },
  {
   "cell_type": "code",
   "execution_count": 0,
   "metadata": {
    "colab": {},
    "colab_type": "code",
    "id": "iQSvsaTTjpWQ"
   },
   "outputs": [],
   "source": [
    "np.savetxt('pred_Lasso_reg.csv',y_pred_Lasso_reg,delimiter=',')"
   ]
  },
  {
   "cell_type": "markdown",
   "metadata": {
    "colab_type": "text",
    "id": "6u2r0HgNjpWT"
   },
   "source": [
    "# ElasticNet"
   ]
  },
  {
   "cell_type": "code",
   "execution_count": 0,
   "metadata": {
    "colab": {},
    "colab_type": "code",
    "id": "RwBN8Ee4jpWT",
    "outputId": "9b2f8f62-d49e-48e9-ac18-13b9d5910594"
   },
   "outputs": [
    {
     "data": {
      "text/plain": [
       "ElasticNet(alpha=1.0, copy_X=True, fit_intercept=True, l1_ratio=0.5,\n",
       "      max_iter=1000, normalize=False, positive=False, precompute=False,\n",
       "      random_state=0, selection='cyclic', tol=0.0001, warm_start=False)"
      ]
     },
     "execution_count": 18,
     "metadata": {
      "tags": []
     },
     "output_type": "execute_result"
    }
   ],
   "source": [
    "from sklearn.linear_model import ElasticNet\n",
    "Elastic_reg = ElasticNet(random_state=0)\n",
    "Elastic_reg.fit(x_train,y_train)"
   ]
  },
  {
   "cell_type": "code",
   "execution_count": 0,
   "metadata": {
    "colab": {},
    "colab_type": "code",
    "id": "jRhmwjvZjpWW"
   },
   "outputs": [],
   "source": [
    "y_pred_Elastic_reg = Elastic_reg.predict(x_test)"
   ]
  },
  {
   "cell_type": "code",
   "execution_count": 0,
   "metadata": {
    "colab": {},
    "colab_type": "code",
    "id": "hZoE2FjMjpWY"
   },
   "outputs": [],
   "source": [
    "np.savetxt('pred_Elastic_reg.csv',y_pred_Elastic_reg,delimiter=',')"
   ]
  },
  {
   "cell_type": "markdown",
   "metadata": {
    "colab_type": "text",
    "id": "VyEcGHL6jpWb"
   },
   "source": [
    "# Least Angle Regression"
   ]
  },
  {
   "cell_type": "code",
   "execution_count": 0,
   "metadata": {
    "colab": {},
    "colab_type": "code",
    "id": "zQvs9SS-jpWc",
    "outputId": "9916b2d2-9039-46a4-9183-3ef8eaf33eaf"
   },
   "outputs": [
    {
     "data": {
      "text/plain": [
       "Lars(copy_X=True, eps=2.220446049250313e-16, fit_intercept=True,\n",
       "   fit_path=True, n_nonzero_coefs=500, normalize=True, positive=False,\n",
       "   precompute='auto', verbose=False)"
      ]
     },
     "execution_count": 21,
     "metadata": {
      "tags": []
     },
     "output_type": "execute_result"
    }
   ],
   "source": [
    "from sklearn import linear_model\n",
    "LAR_reg = linear_model.Lars()\n",
    "LAR_reg.fit(x_train,y_train)"
   ]
  },
  {
   "cell_type": "code",
   "execution_count": 0,
   "metadata": {
    "colab": {},
    "colab_type": "code",
    "id": "1xYu4igojpWe"
   },
   "outputs": [],
   "source": [
    "y_pred_LAR_reg = LAR_reg.predict(x_test)"
   ]
  },
  {
   "cell_type": "code",
   "execution_count": 0,
   "metadata": {
    "colab": {},
    "colab_type": "code",
    "id": "1nZoJQT-jpWg"
   },
   "outputs": [],
   "source": [
    "np.savetxt('pred_LAR_reg.csv',y_pred_LAR_reg,delimiter=',')"
   ]
  },
  {
   "cell_type": "markdown",
   "metadata": {
    "colab_type": "text",
    "id": "q8CGhUKjjpWj"
   },
   "source": [
    "# XGBoost"
   ]
  },
  {
   "cell_type": "code",
   "execution_count": 0,
   "metadata": {
    "colab": {},
    "colab_type": "code",
    "id": "YftExeECjpWj"
   },
   "outputs": [],
   "source": [
    "import xgboost as xgb\n",
    "from sklearn.multioutput import MultiOutputRegressor\n",
    "# xgdmat = xgb.DMatrix(x_train,y_train)\n",
    "# params = {'objective':'mae'}\n",
    "# final_gb = xgb.train(params,xgdmat)\n",
    "multioutput_regressor = MultiOutputRegressor(xgb.XGBRegressor(objective='reg:mae')).fit(x_train,y_train)\n",
    "y_pred_xgboost = multioutput_regressor.predict(x_test)"
   ]
  },
  {
   "cell_type": "code",
   "execution_count": 0,
   "metadata": {
    "colab": {},
    "colab_type": "code",
    "id": "kX_k_em7jpWl"
   },
   "outputs": [],
   "source": [
    "np.savetxt('pred_xgboost_reg.csv',y_pred_xgboost,delimiter=',')"
   ]
  },
  {
   "cell_type": "markdown",
   "metadata": {
    "colab_type": "text",
    "id": "P2qXbLz9jpWm"
   },
   "source": [
    "# LightGBM"
   ]
  },
  {
   "cell_type": "code",
   "execution_count": 15,
   "metadata": {
    "colab": {
     "base_uri": "https://localhost:8080/",
     "height": 305
    },
    "colab_type": "code",
    "id": "pg5Og9a769Xe",
    "outputId": "9c4b0d84-c902-4691-8e30-d2de438fb253"
   },
   "outputs": [
    {
     "name": "stdout",
     "output_type": "stream",
     "text": [
      "Cloning into 'LightGBM'...\n",
      "remote: Enumerating objects: 21, done.\u001b[K\n",
      "remote: Counting objects: 100% (21/21), done.\u001b[K\n",
      "remote: Compressing objects: 100% (17/17), done.\u001b[K\n",
      "remote: Total 13643 (delta 8), reused 5 (delta 3), pack-reused 13622\u001b[K\n",
      "Receiving objects: 100% (13643/13643), 9.63 MiB | 21.08 MiB/s, done.\n",
      "Resolving deltas: 100% (9753/9753), done.\n",
      "Submodule 'include/boost/compute' (https://github.com/boostorg/compute) registered for path 'compute'\n",
      "Cloning into '/content/LightGBM/compute'...\n",
      "remote: Enumerating objects: 72, done.        \n",
      "remote: Counting objects: 100% (72/72), done.        \n",
      "remote: Compressing objects: 100% (47/47), done.        \n",
      "remote: Total 21728 (delta 30), reused 44 (delta 19), pack-reused 21656        \n",
      "Receiving objects: 100% (21728/21728), 8.53 MiB | 27.57 MiB/s, done.\n",
      "Resolving deltas: 100% (17550/17550), done.\n",
      "Submodule path 'compute': checked out '36c89134d4013b2e5e45bc55656a18bd6141995a'\n"
     ]
    }
   ],
   "source": [
    "!git clone --recursive https://github.com/Microsoft/LightGBM"
   ]
  },
  {
   "cell_type": "code",
   "execution_count": 10,
   "metadata": {
    "colab": {
     "base_uri": "https://localhost:8080/",
     "height": 35
    },
    "colab_type": "code",
    "id": "uXBLyvoV7Rdw",
    "outputId": "28777584-c5d9-4c15-8ed6-d1fc09b703b2"
   },
   "outputs": [
    {
     "name": "stdout",
     "output_type": "stream",
     "text": [
      "/content/LightGBM\n"
     ]
    }
   ],
   "source": [
    "%cd /content/LightGBM"
   ]
  },
  {
   "cell_type": "code",
   "execution_count": 11,
   "metadata": {
    "colab": {
     "base_uri": "https://localhost:8080/",
     "height": 35
    },
    "colab_type": "code",
    "id": "LieluDUR7Roh",
    "outputId": "5b93beaf-1dd2-4cd2-f642-1f408ea07501"
   },
   "outputs": [
    {
     "name": "stdout",
     "output_type": "stream",
     "text": [
      "mkdir: cannot create directory ‘build’: File exists\n"
     ]
    }
   ],
   "source": [
    "!mkdir build"
   ]
  },
  {
   "cell_type": "code",
   "execution_count": 12,
   "metadata": {
    "colab": {
     "base_uri": "https://localhost:8080/",
     "height": 251
    },
    "colab_type": "code",
    "id": "BDOF3uKI7R1G",
    "outputId": "77405f3f-27a9-4e4c-980d-895123d0f187"
   },
   "outputs": [
    {
     "name": "stdout",
     "output_type": "stream",
     "text": [
      "-- Found OpenMP_C: -fopenmp  \n",
      "-- Found OpenMP_CXX: -fopenmp  \n",
      "-- Found OpenMP: TRUE   \n",
      "-- OpenCL include directory: /usr/include\n",
      "-- Boost version: 1.65.1\n",
      "-- Found the following Boost libraries:\n",
      "--   filesystem\n",
      "--   system\n",
      "-- Configuring done\n",
      "-- Generating done\n",
      "-- Build files have been written to: /content/LightGBM\n",
      "[ 49%] Built target lightgbm\n",
      "[100%] Built target _lightgbm\n"
     ]
    }
   ],
   "source": [
    "!cmake -DUSE_GPU=1 #avoid ..\n",
    "!make -j$(nproc)"
   ]
  },
  {
   "cell_type": "code",
   "execution_count": 19,
   "metadata": {
    "colab": {
     "base_uri": "https://localhost:8080/",
     "height": 179
    },
    "colab_type": "code",
    "id": "qN3WOlPC7kg8",
    "outputId": "657663aa-1f8b-463d-fce9-03b2734d23bb"
   },
   "outputs": [
    {
     "name": "stdout",
     "output_type": "stream",
     "text": [
      "Requirement already up-to-date: setuptools in /usr/local/lib/python3.6/dist-packages (41.0.1)\n",
      "Requirement already up-to-date: pandas in /usr/local/lib/python3.6/dist-packages (0.24.2)\n",
      "Requirement already up-to-date: numpy in /usr/local/lib/python3.6/dist-packages (1.16.4)\n",
      "Requirement already up-to-date: scipy in /usr/local/lib/python3.6/dist-packages (1.3.0)\n",
      "Requirement already up-to-date: scikit-learn in /usr/local/lib/python3.6/dist-packages (0.21.2)\n",
      "Requirement already satisfied, skipping upgrade: python-dateutil>=2.5.0 in /usr/local/lib/python3.6/dist-packages (from pandas) (2.5.3)\n",
      "Requirement already satisfied, skipping upgrade: pytz>=2011k in /usr/local/lib/python3.6/dist-packages (from pandas) (2018.9)\n",
      "Requirement already satisfied, skipping upgrade: joblib>=0.11 in /usr/local/lib/python3.6/dist-packages (from scikit-learn) (0.13.2)\n",
      "Requirement already satisfied, skipping upgrade: six>=1.5 in /usr/local/lib/python3.6/dist-packages (from python-dateutil>=2.5.0->pandas) (1.12.0)\n"
     ]
    }
   ],
   "source": [
    "!sudo -H pip install setuptools pandas numpy scipy scikit-learn -U"
   ]
  },
  {
   "cell_type": "code",
   "execution_count": 13,
   "metadata": {
    "colab": {
     "base_uri": "https://localhost:8080/",
     "height": 35
    },
    "colab_type": "code",
    "id": "iLxNHkA1-5hv",
    "outputId": "9a7b9a03-3dd8-481a-879f-5481a893d391"
   },
   "outputs": [
    {
     "name": "stdout",
     "output_type": "stream",
     "text": [
      "/content/LightGBM/python-package\n"
     ]
    }
   ],
   "source": [
    "%cd /content/LightGBM/python-package"
   ]
  },
  {
   "cell_type": "code",
   "execution_count": 14,
   "metadata": {
    "colab": {
     "base_uri": "https://localhost:8080/",
     "height": 593
    },
    "colab_type": "code",
    "id": "bSph8qbz-7Nw",
    "outputId": "00cf47aa-bc92-445e-ba85-f1639ef91768"
   },
   "outputs": [
    {
     "name": "stdout",
     "output_type": "stream",
     "text": [
      "running install\n",
      "running build\n",
      "running build_py\n",
      "INFO:root:Generating grammar tables from /usr/lib/python3.6/lib2to3/Grammar.txt\n",
      "INFO:root:Generating grammar tables from /usr/lib/python3.6/lib2to3/PatternGrammar.txt\n",
      "running egg_info\n",
      "writing lightgbm.egg-info/PKG-INFO\n",
      "writing dependency_links to lightgbm.egg-info/dependency_links.txt\n",
      "writing requirements to lightgbm.egg-info/requires.txt\n",
      "writing top-level names to lightgbm.egg-info/top_level.txt\n",
      "reading manifest template 'MANIFEST.in'\n",
      "no previously-included directories found matching 'build'\n",
      "warning: no files found matching 'LICENSE'\n",
      "warning: no files found matching '*.txt'\n",
      "warning: no files found matching '*.so' under directory 'lightgbm'\n",
      "warning: no files found matching '*.txt' under directory 'compile'\n",
      "warning: no files found matching '*.so' under directory 'compile'\n",
      "warning: no files found matching '*.dll' under directory 'compile/Release'\n",
      "warning: no files found matching '*' under directory 'compile/compute'\n",
      "warning: no files found matching '*' under directory 'compile/include'\n",
      "warning: no files found matching '*' under directory 'compile/src'\n",
      "warning: no files found matching 'LightGBM.sln' under directory 'compile/windows'\n",
      "warning: no files found matching 'LightGBM.vcxproj' under directory 'compile/windows'\n",
      "warning: no files found matching '*.dll' under directory 'compile/windows/x64/DLL'\n",
      "warning: no previously-included files matching '*.py[co]' found anywhere in distribution\n",
      "writing manifest file 'lightgbm.egg-info/SOURCES.txt'\n",
      "running install_lib\n",
      "INFO:LightGBM:Installing lib_lightgbm from: ['../lib_lightgbm.so']\n",
      "running install_egg_info\n",
      "removing '/usr/local/lib/python3.6/dist-packages/lightgbm-2.2.4-py3.6.egg-info' (and everything under it)\n",
      "Copying lightgbm.egg-info to /usr/local/lib/python3.6/dist-packages/lightgbm-2.2.4-py3.6.egg-info\n",
      "running install_scripts\n"
     ]
    }
   ],
   "source": [
    "!sudo python setup.py install --precompile"
   ]
  },
  {
   "cell_type": "code",
   "execution_count": 0,
   "metadata": {
    "colab": {},
    "colab_type": "code",
    "id": "agXv-k6_5TXn"
   },
   "outputs": [],
   "source": [
    "from sklearn.preprocessing import normalize\n",
    "x_train = normalize(x_train)\n",
    "x_test = normalize(x_test)"
   ]
  },
  {
   "cell_type": "code",
   "execution_count": 0,
   "metadata": {
    "colab": {},
    "colab_type": "code",
    "id": "i2PxSxcEjpWn"
   },
   "outputs": [],
   "source": [
    "import lightgbm as lgb\n",
    "from sklearn.externals import joblib\n",
    "from sklearn.multioutput import MultiOutputRegressor\n",
    "bst = MultiOutputRegressor(lgb.LGBMRegressor(objective='mape',device_type='gpu')).fit(x_train,y_train)\n",
    "y_pred_lightgbm = bst.predict(x_test)"
   ]
  },
  {
   "cell_type": "code",
   "execution_count": 0,
   "metadata": {
    "colab": {},
    "colab_type": "code",
    "id": "vPU_aKOh7PMc"
   },
   "outputs": [],
   "source": []
  },
  {
   "cell_type": "code",
   "execution_count": 0,
   "metadata": {
    "colab": {},
    "colab_type": "code",
    "id": "Ic1qFgNSzZO4"
   },
   "outputs": [],
   "source": [
    "np.savetxt('pred_lightgbm_reg.csv',y_pred_lightgbm,delimiter=',')\n",
    "joblib.dump(bst, 'bst.pkl')"
   ]
  },
  {
   "cell_type": "code",
   "execution_count": 0,
   "metadata": {
    "colab": {},
    "colab_type": "code",
    "id": "GPPhXd1AjpWp"
   },
   "outputs": [],
   "source": [
    "load_model = joblib.load('bst.pkl')"
   ]
  },
  {
   "cell_type": "code",
   "execution_count": 0,
   "metadata": {
    "colab": {},
    "colab_type": "code",
    "id": "wPJ0sDmkjpWs",
    "outputId": "dc997c56-e654-404d-cb90-c133d85ffc3b"
   },
   "outputs": [
    {
     "name": "stdout",
     "output_type": "stream",
     "text": [
      "MultiOutputRegressor(estimator=LGBMRegressor(boosting_type='gbdt', class_weight=None, colsample_bytree=1.0,\n",
      "       importance_type='split', learning_rate=0.1, max_depth=-1,\n",
      "       min_child_samples=20, min_child_weight=0.001, min_split_gain=0.0,\n",
      "       n_estimators=100, n_jobs=-1, num_leaves=31, objective='mape',\n",
      "       random_state=None, reg_alpha=0.0, reg_lambda=0.0, silent=True,\n",
      "       subsample=1.0, subsample_for_bin=200000, subsample_freq=0),\n",
      "           n_jobs=None)\n"
     ]
    }
   ],
   "source": [
    "print(load_model)"
   ]
  },
  {
   "cell_type": "code",
   "execution_count": 0,
   "metadata": {
    "colab": {},
    "colab_type": "code",
    "id": "7y2uv-ISjpWu",
    "outputId": "6c30435c-8ff6-4eff-c6b7-054818251420"
   },
   "outputs": [
    {
     "data": {
      "text/plain": [
       "array([[3.46838903e-01, 1.54689915e+02, 5.65919994e-01],\n",
       "       [5.55811642e-01, 1.29335821e+02, 8.90814082e-01],\n",
       "       [6.23188895e-01, 1.18893843e+02, 8.06928084e-01],\n",
       "       [1.50032210e-01, 1.21101851e+02, 8.09364557e-01],\n",
       "       [3.72077710e-01, 1.13312602e+02, 7.83787643e-01],\n",
       "       [7.29344081e-01, 1.32551930e+02, 8.32653645e-01],\n",
       "       [6.29160844e-01, 1.09369955e+02, 8.93586235e-01],\n",
       "       [2.84316161e-01, 1.69228030e+02, 5.73141349e-01],\n",
       "       [1.85005460e-01, 5.64537529e+01, 8.85357768e-01],\n",
       "       [7.36757675e-01, 1.43074447e+02, 7.12977376e-01]])"
      ]
     },
     "execution_count": 8,
     "metadata": {
      "tags": []
     },
     "output_type": "execute_result"
    }
   ],
   "source": [
    "y_pred_lightgbm"
   ]
  },
  {
   "cell_type": "markdown",
   "metadata": {
    "colab_type": "text",
    "id": "UbAm3NGyjpWw"
   },
   "source": [
    "# Adaboost"
   ]
  },
  {
   "cell_type": "code",
   "execution_count": 0,
   "metadata": {
    "colab": {},
    "colab_type": "code",
    "id": "XMBZVStUjpWw"
   },
   "outputs": [],
   "source": [
    "from sklearn.tree import DecisionTreeRegressor\n",
    "from sklearn.ensemble import AdaBoostRegressor\n",
    "from sklearn.multioutput import MultiOutputRegressor\n",
    "from sklearn.externals import joblib\n",
    "ada_reg = MultiOutputRegressor(AdaBoostRegressor(base_estimator=DecisionTreeRegressor(max_depth=3), loss='square',n_estimators=100)).fit(x_train[:100],y_train[:100])\n",
    "y_pred_adaboost_dt = ada_reg.predict(x_test[:10])"
   ]
  },
  {
   "cell_type": "code",
   "execution_count": 0,
   "metadata": {
    "colab": {},
    "colab_type": "code",
    "id": "-60jcOpajpWy",
    "outputId": "349c013a-cc4f-48a0-92bb-dab60c73f1f8"
   },
   "outputs": [
    {
     "data": {
      "text/plain": [
       "['ada.pkl']"
      ]
     },
     "execution_count": 4,
     "metadata": {
      "tags": []
     },
     "output_type": "execute_result"
    }
   ],
   "source": [
    "np.savetxt('pred_adaboost_dt_reg.csv',y_pred_adaboost_dt,delimiter=',')\n",
    "joblib.dump(ada_reg, 'ada.pkl')"
   ]
  },
  {
   "cell_type": "code",
   "execution_count": 0,
   "metadata": {
    "colab": {},
    "colab_type": "code",
    "id": "9IrdUW1pjpW0",
    "outputId": "09c71822-793f-4e5e-a565-548f78c0b455"
   },
   "outputs": [
    {
     "data": {
      "text/plain": [
       "array([[4.83694640e-01, 1.76544702e+02, 5.63101293e-01],\n",
       "       [5.50491343e-01, 1.29154423e+02, 9.11015047e-01],\n",
       "       [6.00817280e-01, 1.50489266e+02, 8.19984183e-01],\n",
       "       [1.70893817e-01, 1.14992005e+02, 8.01018652e-01],\n",
       "       [1.93893473e-01, 1.54995566e+02, 7.85020066e-01],\n",
       "       [5.24372972e-01, 1.40469545e+02, 8.20600205e-01],\n",
       "       [5.66955771e-01, 1.50489266e+02, 8.99425599e-01],\n",
       "       [1.82261413e-01, 1.58239589e+02, 5.34278887e-01],\n",
       "       [1.82261413e-01, 1.05151144e+02, 9.02835543e-01],\n",
       "       [6.87122666e-01, 1.55996182e+02, 7.07264976e-01]])"
      ]
     },
     "execution_count": 5,
     "metadata": {
      "tags": []
     },
     "output_type": "execute_result"
    }
   ],
   "source": [
    "y_pred_adaboost"
   ]
  },
  {
   "cell_type": "code",
   "execution_count": 0,
   "metadata": {
    "colab": {},
    "colab_type": "code",
    "id": "cvHBf546jpW3"
   },
   "outputs": [],
   "source": []
  }
 ],
 "metadata": {
  "accelerator": "GPU",
  "colab": {
   "name": "“final.ipynb”的副本",
   "provenance": [],
   "toc_visible": true,
   "version": "0.3.2"
  },
  "kernelspec": {
   "display_name": "Python 3",
   "language": "python",
   "name": "python3"
  },
  "language_info": {
   "codemirror_mode": {
    "name": "ipython",
    "version": 3
   },
   "file_extension": ".py",
   "mimetype": "text/x-python",
   "name": "python",
   "nbconvert_exporter": "python",
   "pygments_lexer": "ipython3",
   "version": "3.7.3"
  }
 },
 "nbformat": 4,
 "nbformat_minor": 1
}
